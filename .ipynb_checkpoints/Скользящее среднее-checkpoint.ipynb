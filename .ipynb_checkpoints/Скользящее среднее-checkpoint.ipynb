{
 "cells": [
  {
   "cell_type": "code",
   "execution_count": 106,
   "metadata": {},
   "outputs": [
    {
     "name": "stdout",
     "output_type": "stream",
     "text": [
      "[0 1 2]\n",
      "1.0\n",
      "0\n",
      "1\n",
      "[ 1.   1.5  2.   3.   4.   5.   6.   7.   8.   9.  10.  11.  12.  13.\n",
      " 14.  15.  16.  17.  18.  18.5 19. ]\n"
     ]
    }
   ],
   "source": [
    "import numpy as np\n",
    "import pandas as pd\n",
    "\n",
    "arr = np.arange(21)\n",
    "len_arr = len(arr)\n",
    "\n",
    "n = 0 # опорный элемент\n",
    "N = 5 # размер окна усреднения\n",
    "min_i = n - int(N/2) # индекс начала окна\n",
    "max_i = n + int(N/2) # индекс конца окна\n",
    "di = 0 if N%2==0 else 1\n",
    "#if N%2==0:\n",
    "#    max_i-=1\n",
    "\n",
    "sub_arr = arr[max(min_i, 0): min(max_i+di, len_arr)]\n",
    "\n",
    "print(sub_arr)\n",
    "print(np.average(sub_arr))\n",
    "\n",
    "print(max(min_i, 0))\n",
    "print(min(max_i-1, len_arr))\n",
    "\n",
    "di = 0 if N%2==0 else 1\n",
    "result = np.zeros(len_arr)\n",
    "for i in range(len_arr):\n",
    "    min_i = i - int(N/2) # индекс начала окна\n",
    "    max_i = i + int(N/2) # индекс конца окна\n",
    "    result[i] = np.average(arr[max(min_i, 0): min(max_i+di, len_arr)])\n",
    "\n",
    "print(result)"
   ]
  },
  {
   "cell_type": "code",
   "execution_count": 104,
   "metadata": {},
   "outputs": [
    {
     "name": "stdout",
     "output_type": "stream",
     "text": [
      "[ 1.   1.5  2.   3.   4.   5.   6.   7.   8.   9.  10.  11.  12.  13.\n",
      " 14.  15.  16.  17.  18.  18.5 19. ]\n"
     ]
    }
   ],
   "source": [
    "import numpy as np\n",
    "import pandas as pd\n",
    "\n",
    "arr = np.arange(21)\n",
    "\n",
    "\n",
    "def average_array(arr, N):\n",
    "    len_arr = len(arr)\n",
    "    di = 0 if N%2==0 else 1\n",
    "    result = np.zeros(len_arr)\n",
    "    for i in range(len_arr):\n",
    "        min_i = i - int(N/2) # индекс начала окна\n",
    "        max_i = i + int(N/2) # индекс конца окна\n",
    "        result[i] = np.average(arr[max(min_i, 0): min(max_i+di, len_arr)])\n",
    "\n",
    "    return result\n",
    "\n",
    "print(average_array(arr,5))"
   ]
  },
  {
   "cell_type": "code",
   "execution_count": null,
   "metadata": {},
   "outputs": [],
   "source": []
  }
 ],
 "metadata": {
  "kernelspec": {
   "display_name": "Python 3",
   "language": "python",
   "name": "python3"
  },
  "language_info": {
   "codemirror_mode": {
    "name": "ipython",
    "version": 3
   },
   "file_extension": ".py",
   "mimetype": "text/x-python",
   "name": "python",
   "nbconvert_exporter": "python",
   "pygments_lexer": "ipython3",
   "version": "3.6.8"
  }
 },
 "nbformat": 4,
 "nbformat_minor": 2
}
